{
 "cells": [
  {
   "cell_type": "markdown",
   "id": "690a166d",
   "metadata": {},
   "source": [
    "# CAMI2 marine GSA dataset"
   ]
  },
  {
   "cell_type": "code",
   "execution_count": 1,
   "id": "dee463f5",
   "metadata": {},
   "outputs": [],
   "source": [
    "import numpy as np\n",
    "import pandas as pd"
   ]
  },
  {
   "cell_type": "code",
   "execution_count": 2,
   "id": "e482d402",
   "metadata": {},
   "outputs": [],
   "source": [
    "import matplotlib.pyplot as plt"
   ]
  },
  {
   "cell_type": "code",
   "execution_count": 3,
   "id": "82d53a4c",
   "metadata": {},
   "outputs": [],
   "source": [
    "import matplotlib.patches as mpatches"
   ]
  },
  {
   "cell_type": "code",
   "execution_count": 4,
   "id": "e22c34a5",
   "metadata": {},
   "outputs": [],
   "source": [
    "%matplotlib inline"
   ]
  },
  {
   "cell_type": "code",
   "execution_count": 5,
   "id": "419804d4",
   "metadata": {},
   "outputs": [],
   "source": [
    "plt.rcParams.update({\n",
    "    'figure.autolayout': True,\n",
    "    'savefig.bbox': 'tight',\n",
    "    'svg.fonttype': 'none',\n",
    "    'font.sans-serif': 'Arial',\n",
    "    'font.size': 11})"
   ]
  },
  {
   "cell_type": "markdown",
   "id": "45be38d9",
   "metadata": {},
   "source": [
    "## Data table"
   ]
  },
  {
   "cell_type": "code",
   "execution_count": 6,
   "id": "2f7df13a",
   "metadata": {},
   "outputs": [
    {
     "data": {
      "text/html": [
       "<div>\n",
       "<style scoped>\n",
       "    .dataframe tbody tr th:only-of-type {\n",
       "        vertical-align: middle;\n",
       "    }\n",
       "\n",
       "    .dataframe tbody tr th {\n",
       "        vertical-align: top;\n",
       "    }\n",
       "\n",
       "    .dataframe thead th {\n",
       "        text-align: right;\n",
       "    }\n",
       "</style>\n",
       "<table border=\"1\" class=\"dataframe\">\n",
       "  <thead>\n",
       "    <tr style=\"text-align: right;\">\n",
       "      <th></th>\n",
       "      <th>Length</th>\n",
       "      <th>AvgDepth</th>\n",
       "      <th>Sample_0</th>\n",
       "      <th>Sample_1</th>\n",
       "      <th>Sample_2</th>\n",
       "      <th>Sample_3</th>\n",
       "      <th>Sample_4</th>\n",
       "      <th>Sample_5</th>\n",
       "      <th>Sample_6</th>\n",
       "      <th>Sample_7</th>\n",
       "      <th>...</th>\n",
       "      <th>PC3</th>\n",
       "      <th>DASTool_pre</th>\n",
       "      <th>DASTool_post</th>\n",
       "      <th>MaxBin_pre</th>\n",
       "      <th>MaxBin_post</th>\n",
       "      <th>MetaBAT_pre</th>\n",
       "      <th>MetaBAT_post</th>\n",
       "      <th>Truth_all</th>\n",
       "      <th>Truth_unique</th>\n",
       "      <th>Truth_strains</th>\n",
       "    </tr>\n",
       "    <tr>\n",
       "      <th>Contig</th>\n",
       "      <th></th>\n",
       "      <th></th>\n",
       "      <th></th>\n",
       "      <th></th>\n",
       "      <th></th>\n",
       "      <th></th>\n",
       "      <th></th>\n",
       "      <th></th>\n",
       "      <th></th>\n",
       "      <th></th>\n",
       "      <th></th>\n",
       "      <th></th>\n",
       "      <th></th>\n",
       "      <th></th>\n",
       "      <th></th>\n",
       "      <th></th>\n",
       "      <th></th>\n",
       "      <th></th>\n",
       "      <th></th>\n",
       "      <th></th>\n",
       "      <th></th>\n",
       "    </tr>\n",
       "  </thead>\n",
       "  <tbody>\n",
       "    <tr>\n",
       "      <th>PC11</th>\n",
       "      <td>2136</td>\n",
       "      <td>1.12689</td>\n",
       "      <td>0.000000</td>\n",
       "      <td>1.126890</td>\n",
       "      <td>0.000000</td>\n",
       "      <td>0.000000</td>\n",
       "      <td>0.000000</td>\n",
       "      <td>0.000000</td>\n",
       "      <td>0.000000</td>\n",
       "      <td>0.000000</td>\n",
       "      <td>...</td>\n",
       "      <td>-4.260037</td>\n",
       "      <td>NaN</td>\n",
       "      <td>NaN</td>\n",
       "      <td>maxbin.226</td>\n",
       "      <td>NaN</td>\n",
       "      <td>NaN</td>\n",
       "      <td>NaN</td>\n",
       "      <td>Otu2439</td>\n",
       "      <td>Otu2439</td>\n",
       "      <td>NaN</td>\n",
       "    </tr>\n",
       "    <tr>\n",
       "      <th>PC15</th>\n",
       "      <td>12235</td>\n",
       "      <td>2.43111</td>\n",
       "      <td>0.430699</td>\n",
       "      <td>0.000000</td>\n",
       "      <td>0.247911</td>\n",
       "      <td>0.099214</td>\n",
       "      <td>0.185685</td>\n",
       "      <td>0.086554</td>\n",
       "      <td>0.272900</td>\n",
       "      <td>0.247166</td>\n",
       "      <td>...</td>\n",
       "      <td>-0.056487</td>\n",
       "      <td>NaN</td>\n",
       "      <td>NaN</td>\n",
       "      <td>NaN</td>\n",
       "      <td>NaN</td>\n",
       "      <td>NaN</td>\n",
       "      <td>NaN</td>\n",
       "      <td>Otu965</td>\n",
       "      <td>Otu965</td>\n",
       "      <td>NaN</td>\n",
       "    </tr>\n",
       "    <tr>\n",
       "      <th>PC24</th>\n",
       "      <td>12446</td>\n",
       "      <td>2.79506</td>\n",
       "      <td>0.000000</td>\n",
       "      <td>0.207303</td>\n",
       "      <td>1.004150</td>\n",
       "      <td>0.682417</td>\n",
       "      <td>0.000000</td>\n",
       "      <td>0.000000</td>\n",
       "      <td>0.377521</td>\n",
       "      <td>0.243900</td>\n",
       "      <td>...</td>\n",
       "      <td>-2.562405</td>\n",
       "      <td>metabat.22_sub</td>\n",
       "      <td>metabat.22_sub.filt</td>\n",
       "      <td>maxbin.305</td>\n",
       "      <td>maxbin.305.filt</td>\n",
       "      <td>metabat.22</td>\n",
       "      <td>metabat.22.filt</td>\n",
       "      <td>Otu754</td>\n",
       "      <td>NaN</td>\n",
       "      <td>Otu754</td>\n",
       "    </tr>\n",
       "    <tr>\n",
       "      <th>PC42</th>\n",
       "      <td>4758</td>\n",
       "      <td>2.52539</td>\n",
       "      <td>0.422526</td>\n",
       "      <td>0.000000</td>\n",
       "      <td>0.000000</td>\n",
       "      <td>0.162543</td>\n",
       "      <td>0.585286</td>\n",
       "      <td>0.097656</td>\n",
       "      <td>0.553168</td>\n",
       "      <td>0.292318</td>\n",
       "      <td>...</td>\n",
       "      <td>0.084711</td>\n",
       "      <td>maxbin.186_sub</td>\n",
       "      <td>maxbin.186_sub.filt</td>\n",
       "      <td>maxbin.186</td>\n",
       "      <td>maxbin.186.filt</td>\n",
       "      <td>NaN</td>\n",
       "      <td>NaN</td>\n",
       "      <td>Otu2189</td>\n",
       "      <td>Otu2189</td>\n",
       "      <td>NaN</td>\n",
       "    </tr>\n",
       "    <tr>\n",
       "      <th>PC53</th>\n",
       "      <td>2014</td>\n",
       "      <td>3.81867</td>\n",
       "      <td>0.321888</td>\n",
       "      <td>0.482296</td>\n",
       "      <td>0.524142</td>\n",
       "      <td>0.241416</td>\n",
       "      <td>0.000000</td>\n",
       "      <td>0.482833</td>\n",
       "      <td>0.481223</td>\n",
       "      <td>0.080472</td>\n",
       "      <td>...</td>\n",
       "      <td>3.304496</td>\n",
       "      <td>NaN</td>\n",
       "      <td>NaN</td>\n",
       "      <td>maxbin.090</td>\n",
       "      <td>NaN</td>\n",
       "      <td>metabat.102</td>\n",
       "      <td>NaN</td>\n",
       "      <td>Otu761</td>\n",
       "      <td>NaN</td>\n",
       "      <td>Otu761</td>\n",
       "    </tr>\n",
       "    <tr>\n",
       "      <th>...</th>\n",
       "      <td>...</td>\n",
       "      <td>...</td>\n",
       "      <td>...</td>\n",
       "      <td>...</td>\n",
       "      <td>...</td>\n",
       "      <td>...</td>\n",
       "      <td>...</td>\n",
       "      <td>...</td>\n",
       "      <td>...</td>\n",
       "      <td>...</td>\n",
       "      <td>...</td>\n",
       "      <td>...</td>\n",
       "      <td>...</td>\n",
       "      <td>...</td>\n",
       "      <td>...</td>\n",
       "      <td>...</td>\n",
       "      <td>...</td>\n",
       "      <td>...</td>\n",
       "      <td>...</td>\n",
       "      <td>...</td>\n",
       "      <td>...</td>\n",
       "    </tr>\n",
       "    <tr>\n",
       "      <th>PC1583743</th>\n",
       "      <td>7383</td>\n",
       "      <td>2.02309</td>\n",
       "      <td>0.000000</td>\n",
       "      <td>0.186230</td>\n",
       "      <td>0.351998</td>\n",
       "      <td>0.372736</td>\n",
       "      <td>0.186230</td>\n",
       "      <td>0.206415</td>\n",
       "      <td>0.202129</td>\n",
       "      <td>0.455827</td>\n",
       "      <td>...</td>\n",
       "      <td>1.157558</td>\n",
       "      <td>maxbin.289_sub</td>\n",
       "      <td>maxbin.289_sub.filt</td>\n",
       "      <td>maxbin.289</td>\n",
       "      <td>maxbin.289.filt</td>\n",
       "      <td>NaN</td>\n",
       "      <td>NaN</td>\n",
       "      <td>Otu2268</td>\n",
       "      <td>Otu2268</td>\n",
       "      <td>NaN</td>\n",
       "    </tr>\n",
       "    <tr>\n",
       "      <th>PC1583744</th>\n",
       "      <td>7313</td>\n",
       "      <td>2.13053</td>\n",
       "      <td>0.230071</td>\n",
       "      <td>0.000000</td>\n",
       "      <td>0.293173</td>\n",
       "      <td>0.292894</td>\n",
       "      <td>0.187770</td>\n",
       "      <td>0.000000</td>\n",
       "      <td>0.604495</td>\n",
       "      <td>0.020941</td>\n",
       "      <td>...</td>\n",
       "      <td>-0.013529</td>\n",
       "      <td>NaN</td>\n",
       "      <td>NaN</td>\n",
       "      <td>maxbin.247</td>\n",
       "      <td>NaN</td>\n",
       "      <td>NaN</td>\n",
       "      <td>NaN</td>\n",
       "      <td>Otu2333</td>\n",
       "      <td>NaN</td>\n",
       "      <td>Otu2333</td>\n",
       "    </tr>\n",
       "    <tr>\n",
       "      <th>PC1583762</th>\n",
       "      <td>2171</td>\n",
       "      <td>1.29095</td>\n",
       "      <td>0.296883</td>\n",
       "      <td>0.000000</td>\n",
       "      <td>0.147947</td>\n",
       "      <td>0.207818</td>\n",
       "      <td>0.000000</td>\n",
       "      <td>0.296388</td>\n",
       "      <td>0.148441</td>\n",
       "      <td>0.119248</td>\n",
       "      <td>...</td>\n",
       "      <td>-4.642395</td>\n",
       "      <td>maxbin.194_sub</td>\n",
       "      <td>NaN</td>\n",
       "      <td>maxbin.194</td>\n",
       "      <td>NaN</td>\n",
       "      <td>NaN</td>\n",
       "      <td>NaN</td>\n",
       "      <td>Otu1383</td>\n",
       "      <td>NaN</td>\n",
       "      <td>Otu1383</td>\n",
       "    </tr>\n",
       "    <tr>\n",
       "      <th>PC1583766</th>\n",
       "      <td>2010</td>\n",
       "      <td>2.03011</td>\n",
       "      <td>0.644624</td>\n",
       "      <td>0.000000</td>\n",
       "      <td>0.322581</td>\n",
       "      <td>0.000000</td>\n",
       "      <td>0.159140</td>\n",
       "      <td>0.280108</td>\n",
       "      <td>0.623656</td>\n",
       "      <td>0.000000</td>\n",
       "      <td>...</td>\n",
       "      <td>-5.490315</td>\n",
       "      <td>NaN</td>\n",
       "      <td>NaN</td>\n",
       "      <td>maxbin.261</td>\n",
       "      <td>NaN</td>\n",
       "      <td>NaN</td>\n",
       "      <td>NaN</td>\n",
       "      <td>Otu2121</td>\n",
       "      <td>Otu2121</td>\n",
       "      <td>NaN</td>\n",
       "    </tr>\n",
       "    <tr>\n",
       "      <th>PC1583767</th>\n",
       "      <td>2087</td>\n",
       "      <td>1.46567</td>\n",
       "      <td>0.348477</td>\n",
       "      <td>0.348477</td>\n",
       "      <td>0.000000</td>\n",
       "      <td>0.768714</td>\n",
       "      <td>0.000000</td>\n",
       "      <td>0.000000</td>\n",
       "      <td>0.000000</td>\n",
       "      <td>0.000000</td>\n",
       "      <td>...</td>\n",
       "      <td>6.484612</td>\n",
       "      <td>NaN</td>\n",
       "      <td>NaN</td>\n",
       "      <td>maxbin.163</td>\n",
       "      <td>NaN</td>\n",
       "      <td>NaN</td>\n",
       "      <td>NaN</td>\n",
       "      <td>Otu1920</td>\n",
       "      <td>Otu1920</td>\n",
       "      <td>NaN</td>\n",
       "    </tr>\n",
       "  </tbody>\n",
       "</table>\n",
       "<p>159956 rows × 24 columns</p>\n",
       "</div>"
      ],
      "text/plain": [
       "           Length  AvgDepth  Sample_0  Sample_1  Sample_2  Sample_3  Sample_4  \\\n",
       "Contig                                                                          \n",
       "PC11         2136   1.12689  0.000000  1.126890  0.000000  0.000000  0.000000   \n",
       "PC15        12235   2.43111  0.430699  0.000000  0.247911  0.099214  0.185685   \n",
       "PC24        12446   2.79506  0.000000  0.207303  1.004150  0.682417  0.000000   \n",
       "PC42         4758   2.52539  0.422526  0.000000  0.000000  0.162543  0.585286   \n",
       "PC53         2014   3.81867  0.321888  0.482296  0.524142  0.241416  0.000000   \n",
       "...           ...       ...       ...       ...       ...       ...       ...   \n",
       "PC1583743    7383   2.02309  0.000000  0.186230  0.351998  0.372736  0.186230   \n",
       "PC1583744    7313   2.13053  0.230071  0.000000  0.293173  0.292894  0.187770   \n",
       "PC1583762    2171   1.29095  0.296883  0.000000  0.147947  0.207818  0.000000   \n",
       "PC1583766    2010   2.03011  0.644624  0.000000  0.322581  0.000000  0.159140   \n",
       "PC1583767    2087   1.46567  0.348477  0.348477  0.000000  0.768714  0.000000   \n",
       "\n",
       "           Sample_5  Sample_6  Sample_7  ...       PC3     DASTool_pre  \\\n",
       "Contig                                   ...                             \n",
       "PC11       0.000000  0.000000  0.000000  ... -4.260037             NaN   \n",
       "PC15       0.086554  0.272900  0.247166  ... -0.056487             NaN   \n",
       "PC24       0.000000  0.377521  0.243900  ... -2.562405  metabat.22_sub   \n",
       "PC42       0.097656  0.553168  0.292318  ...  0.084711  maxbin.186_sub   \n",
       "PC53       0.482833  0.481223  0.080472  ...  3.304496             NaN   \n",
       "...             ...       ...       ...  ...       ...             ...   \n",
       "PC1583743  0.206415  0.202129  0.455827  ...  1.157558  maxbin.289_sub   \n",
       "PC1583744  0.000000  0.604495  0.020941  ... -0.013529             NaN   \n",
       "PC1583762  0.296388  0.148441  0.119248  ... -4.642395  maxbin.194_sub   \n",
       "PC1583766  0.280108  0.623656  0.000000  ... -5.490315             NaN   \n",
       "PC1583767  0.000000  0.000000  0.000000  ...  6.484612             NaN   \n",
       "\n",
       "                  DASTool_post  MaxBin_pre      MaxBin_post  MetaBAT_pre  \\\n",
       "Contig                                                                     \n",
       "PC11                       NaN  maxbin.226              NaN          NaN   \n",
       "PC15                       NaN         NaN              NaN          NaN   \n",
       "PC24       metabat.22_sub.filt  maxbin.305  maxbin.305.filt   metabat.22   \n",
       "PC42       maxbin.186_sub.filt  maxbin.186  maxbin.186.filt          NaN   \n",
       "PC53                       NaN  maxbin.090              NaN  metabat.102   \n",
       "...                        ...         ...              ...          ...   \n",
       "PC1583743  maxbin.289_sub.filt  maxbin.289  maxbin.289.filt          NaN   \n",
       "PC1583744                  NaN  maxbin.247              NaN          NaN   \n",
       "PC1583762                  NaN  maxbin.194              NaN          NaN   \n",
       "PC1583766                  NaN  maxbin.261              NaN          NaN   \n",
       "PC1583767                  NaN  maxbin.163              NaN          NaN   \n",
       "\n",
       "              MetaBAT_post Truth_all Truth_unique Truth_strains  \n",
       "Contig                                                           \n",
       "PC11                   NaN   Otu2439      Otu2439           NaN  \n",
       "PC15                   NaN    Otu965       Otu965           NaN  \n",
       "PC24       metabat.22.filt    Otu754          NaN        Otu754  \n",
       "PC42                   NaN   Otu2189      Otu2189           NaN  \n",
       "PC53                   NaN    Otu761          NaN        Otu761  \n",
       "...                    ...       ...          ...           ...  \n",
       "PC1583743              NaN   Otu2268      Otu2268           NaN  \n",
       "PC1583744              NaN   Otu2333          NaN       Otu2333  \n",
       "PC1583762              NaN   Otu1383          NaN       Otu1383  \n",
       "PC1583766              NaN   Otu2121      Otu2121           NaN  \n",
       "PC1583767              NaN   Otu1920      Otu1920           NaN  \n",
       "\n",
       "[159956 rows x 24 columns]"
      ]
     },
     "execution_count": 6,
     "metadata": {},
     "output_type": "execute_result"
    }
   ],
   "source": [
    "df = pd.read_table('marine.tsv', index_col=0)\n",
    "df"
   ]
  },
  {
   "cell_type": "markdown",
   "id": "5be7e807",
   "metadata": {},
   "source": [
    "## Experimental groups"
   ]
  },
  {
   "cell_type": "markdown",
   "id": "69da077a",
   "metadata": {},
   "source": [
    "Binning tools"
   ]
  },
  {
   "cell_type": "code",
   "execution_count": 7,
   "id": "da02f655",
   "metadata": {},
   "outputs": [],
   "source": [
    "tools = ['DASTool', 'MaxBin', 'MetaBAT']"
   ]
  },
  {
   "cell_type": "code",
   "execution_count": 8,
   "id": "bf061205",
   "metadata": {},
   "outputs": [],
   "source": [
    "ntool = len(tools)"
   ]
  },
  {
   "cell_type": "markdown",
   "id": "207a8285",
   "metadata": {},
   "source": [
    "Curation status"
   ]
  },
  {
   "cell_type": "code",
   "execution_count": 9,
   "id": "2237072f",
   "metadata": {},
   "outputs": [],
   "source": [
    "stats = ['pre', 'post']"
   ]
  },
  {
   "cell_type": "code",
   "execution_count": 10,
   "id": "0f7f4787",
   "metadata": {},
   "outputs": [],
   "source": [
    "nstat = len(stats)"
   ]
  },
  {
   "cell_type": "markdown",
   "id": "1e9d5679",
   "metadata": {},
   "source": [
    "## Number of bins"
   ]
  },
  {
   "cell_type": "code",
   "execution_count": 11,
   "id": "32d4d5de",
   "metadata": {},
   "outputs": [],
   "source": [
    "cmap = plt.get_cmap('tab20c')"
   ]
  },
  {
   "cell_type": "code",
   "execution_count": 12,
   "id": "21cffa72",
   "metadata": {},
   "outputs": [],
   "source": [
    "width = 0.4"
   ]
  },
  {
   "cell_type": "code",
   "execution_count": 13,
   "id": "ecefdf7f",
   "metadata": {},
   "outputs": [],
   "source": [
    "xran = np.arange(ntool)\n",
    "yran = np.arange(ntool)"
   ]
  },
  {
   "cell_type": "code",
   "execution_count": 14,
   "id": "87774178",
   "metadata": {},
   "outputs": [
    {
     "data": {
      "text/plain": [
       "[[351, 350], [376, 367], [286, 280]]"
      ]
     },
     "execution_count": 14,
     "metadata": {},
     "output_type": "execute_result"
    }
   ],
   "source": [
    "data = [[df[f'{tool}_{stat}'].nunique() for stat in stats] for tool in tools]\n",
    "data"
   ]
  },
  {
   "cell_type": "code",
   "execution_count": 15,
   "id": "86d81ca2",
   "metadata": {},
   "outputs": [
    {
     "data": {
      "text/html": [
       "<div>\n",
       "<style scoped>\n",
       "    .dataframe tbody tr th:only-of-type {\n",
       "        vertical-align: middle;\n",
       "    }\n",
       "\n",
       "    .dataframe tbody tr th {\n",
       "        vertical-align: top;\n",
       "    }\n",
       "\n",
       "    .dataframe thead th {\n",
       "        text-align: right;\n",
       "    }\n",
       "</style>\n",
       "<table border=\"1\" class=\"dataframe\">\n",
       "  <thead>\n",
       "    <tr style=\"text-align: right;\">\n",
       "      <th></th>\n",
       "      <th>pre</th>\n",
       "      <th>post</th>\n",
       "    </tr>\n",
       "  </thead>\n",
       "  <tbody>\n",
       "    <tr>\n",
       "      <th>DASTool</th>\n",
       "      <td>351</td>\n",
       "      <td>350</td>\n",
       "    </tr>\n",
       "    <tr>\n",
       "      <th>MaxBin</th>\n",
       "      <td>376</td>\n",
       "      <td>367</td>\n",
       "    </tr>\n",
       "    <tr>\n",
       "      <th>MetaBAT</th>\n",
       "      <td>286</td>\n",
       "      <td>280</td>\n",
       "    </tr>\n",
       "  </tbody>\n",
       "</table>\n",
       "</div>"
      ],
      "text/plain": [
       "         pre  post\n",
       "DASTool  351   350\n",
       "MaxBin   376   367\n",
       "MetaBAT  286   280"
      ]
     },
     "execution_count": 15,
     "metadata": {},
     "output_type": "execute_result"
    }
   ],
   "source": [
    "df_ = pd.DataFrame(data, columns=stats, index=tools)\n",
    "df_"
   ]
  },
  {
   "cell_type": "code",
   "execution_count": 16,
   "id": "8ca0bd60",
   "metadata": {},
   "outputs": [
    {
     "data": {
      "image/png": "[encoded data removed]",
      "text/plain": [
       "<Figure size 216x216 with 1 Axes>"
      ]
     },
     "metadata": {
      "needs_background": "light"
     },
     "output_type": "display_data"
    }
   ],
   "source": [
    "plt.figure(figsize=(3, 3))\n",
    "for i, stat in enumerate(stats):\n",
    "    plt.bar(xran + (i - 0.5) * width, df_[stat], width,\n",
    "            color=cmap(i * 4 + 1), label=stat)\n",
    "plt.legend()\n",
    "plt.xticks(xran, tools)\n",
    "plt.ylabel('Number of bins')\n",
    "plt.savefig('nbin.svg')"
   ]
  },
  {
   "cell_type": "markdown",
   "id": "74708d48",
   "metadata": {},
   "source": [
    "## Number of binned contigs"
   ]
  },
  {
   "cell_type": "code",
   "execution_count": 17,
   "id": "6fdbffcf",
   "metadata": {},
   "outputs": [
    {
     "data": {
      "text/plain": [
       "[[68524, 44968], [94633, 50909], [44727, 26956]]"
      ]
     },
     "execution_count": 17,
     "metadata": {},
     "output_type": "execute_result"
    }
   ],
   "source": [
    "data = [[df[f'{tool}_{stat}'].dropna().shape[0] for stat in stats] for tool in tools]\n",
    "data"
   ]
  },
  {
   "cell_type": "code",
   "execution_count": 18,
   "id": "7953aa94",
   "metadata": {},
   "outputs": [
    {
     "data": {
      "text/html": [
       "<div>\n",
       "<style scoped>\n",
       "    .dataframe tbody tr th:only-of-type {\n",
       "        vertical-align: middle;\n",
       "    }\n",
       "\n",
       "    .dataframe tbody tr th {\n",
       "        vertical-align: top;\n",
       "    }\n",
       "\n",
       "    .dataframe thead th {\n",
       "        text-align: right;\n",
       "    }\n",
       "</style>\n",
       "<table border=\"1\" class=\"dataframe\">\n",
       "  <thead>\n",
       "    <tr style=\"text-align: right;\">\n",
       "      <th></th>\n",
       "      <th>pre</th>\n",
       "      <th>post</th>\n",
       "    </tr>\n",
       "  </thead>\n",
       "  <tbody>\n",
       "    <tr>\n",
       "      <th>DASTool</th>\n",
       "      <td>68.524</td>\n",
       "      <td>44.968</td>\n",
       "    </tr>\n",
       "    <tr>\n",
       "      <th>MaxBin</th>\n",
       "      <td>94.633</td>\n",
       "      <td>50.909</td>\n",
       "    </tr>\n",
       "    <tr>\n",
       "      <th>MetaBAT</th>\n",
       "      <td>44.727</td>\n",
       "      <td>26.956</td>\n",
       "    </tr>\n",
       "  </tbody>\n",
       "</table>\n",
       "</div>"
      ],
      "text/plain": [
       "            pre    post\n",
       "DASTool  68.524  44.968\n",
       "MaxBin   94.633  50.909\n",
       "MetaBAT  44.727  26.956"
      ]
     },
     "execution_count": 18,
     "metadata": {},
     "output_type": "execute_result"
    }
   ],
   "source": [
    "df_ = pd.DataFrame(data, columns=stats, index=tools) / 1000\n",
    "df_"
   ]
  },
  {
   "cell_type": "code",
   "execution_count": 19,
   "id": "9f964653",
   "metadata": {},
   "outputs": [
    {
     "data": {
      "image/png": "[encoded data removed]",
      "text/plain": [
       "<Figure size 216x216 with 1 Axes>"
      ]
     },
     "metadata": {
      "needs_background": "light"
     },
     "output_type": "display_data"
    }
   ],
   "source": [
    "plt.figure(figsize=(3, 3))\n",
    "for i, stat in enumerate(stats):\n",
    "    plt.bar(xran + (i - 0.5) * width, df_[stat], width,\n",
    "            color=cmap(i * 4 + 1), label=stat)\n",
    "plt.legend()\n",
    "plt.xticks(xran, tools)\n",
    "plt.ylabel('Number of binned contigs (k)')\n",
    "plt.savefig('nctg.svg')"
   ]
  },
  {
   "cell_type": "markdown",
   "id": "93885bb3",
   "metadata": {},
   "source": [
    "## Length of binned contigs"
   ]
  },
  {
   "cell_type": "code",
   "execution_count": 20,
   "id": "1ed8ca64",
   "metadata": {},
   "outputs": [
    {
     "data": {
      "text/plain": [
       "[[1188333418, 1086433598], [1180809672, 965755368], [1149868978, 901960737]]"
      ]
     },
     "execution_count": 20,
     "metadata": {},
     "output_type": "execute_result"
    }
   ],
   "source": [
    "data = [[df.dropna(subset=[f'{tool}_{stat}'])['Length'].sum() for stat in stats] for tool in tools]\n",
    "data"
   ]
  },
  {
   "cell_type": "code",
   "execution_count": 21,
   "id": "d8c3760c",
   "metadata": {},
   "outputs": [
    {
     "data": {
      "text/html": [
       "<div>\n",
       "<style scoped>\n",
       "    .dataframe tbody tr th:only-of-type {\n",
       "        vertical-align: middle;\n",
       "    }\n",
       "\n",
       "    .dataframe tbody tr th {\n",
       "        vertical-align: top;\n",
       "    }\n",
       "\n",
       "    .dataframe thead th {\n",
       "        text-align: right;\n",
       "    }\n",
       "</style>\n",
       "<table border=\"1\" class=\"dataframe\">\n",
       "  <thead>\n",
       "    <tr style=\"text-align: right;\">\n",
       "      <th></th>\n",
       "      <th>pre</th>\n",
       "      <th>post</th>\n",
       "    </tr>\n",
       "  </thead>\n",
       "  <tbody>\n",
       "    <tr>\n",
       "      <th>DASTool</th>\n",
       "      <td>1.188333</td>\n",
       "      <td>1.086434</td>\n",
       "    </tr>\n",
       "    <tr>\n",
       "      <th>MaxBin</th>\n",
       "      <td>1.180810</td>\n",
       "      <td>0.965755</td>\n",
       "    </tr>\n",
       "    <tr>\n",
       "      <th>MetaBAT</th>\n",
       "      <td>1.149869</td>\n",
       "      <td>0.901961</td>\n",
       "    </tr>\n",
       "  </tbody>\n",
       "</table>\n",
       "</div>"
      ],
      "text/plain": [
       "              pre      post\n",
       "DASTool  1.188333  1.086434\n",
       "MaxBin   1.180810  0.965755\n",
       "MetaBAT  1.149869  0.901961"
      ]
     },
     "execution_count": 21,
     "metadata": {},
     "output_type": "execute_result"
    }
   ],
   "source": [
    "df_ = pd.DataFrame(data, columns=stats, index=tools) / 1000000000\n",
    "df_"
   ]
  },
  {
   "cell_type": "code",
   "execution_count": 22,
   "id": "e4658667",
   "metadata": {},
   "outputs": [
    {
     "data": {
      "image/png": "[encoded data removed]",
      "text/plain": [
       "<Figure size 216x216 with 1 Axes>"
      ]
     },
     "metadata": {
      "needs_background": "light"
     },
     "output_type": "display_data"
    }
   ],
   "source": [
    "plt.figure(figsize=(3, 3))\n",
    "for i, stat in enumerate(stats):\n",
    "    plt.bar(xran + (i - 0.5) * width, df_[stat], width,\n",
    "            color=cmap(i * 4 + 1),label=stat)\n",
    "plt.legend()\n",
    "plt.xticks(xran, tools)\n",
    "plt.ylabel('Length of binned contigs (Gbp)')\n",
    "plt.savefig('blen.svg')"
   ]
  },
  {
   "cell_type": "markdown",
   "id": "6b23560c",
   "metadata": {},
   "source": [
    "## CheckM bin quality"
   ]
  },
  {
   "cell_type": "code",
   "execution_count": 23,
   "id": "55609432",
   "metadata": {},
   "outputs": [
    {
     "data": {
      "text/html": [
       "<div>\n",
       "<style scoped>\n",
       "    .dataframe tbody tr th:only-of-type {\n",
       "        vertical-align: middle;\n",
       "    }\n",
       "\n",
       "    .dataframe tbody tr th {\n",
       "        vertical-align: top;\n",
       "    }\n",
       "\n",
       "    .dataframe thead th {\n",
       "        text-align: right;\n",
       "    }\n",
       "</style>\n",
       "<table border=\"1\" class=\"dataframe\">\n",
       "  <thead>\n",
       "    <tr style=\"text-align: right;\">\n",
       "      <th></th>\n",
       "      <th>Binner</th>\n",
       "      <th>Curation</th>\n",
       "      <th>Bin Id</th>\n",
       "      <th>Marker lineage</th>\n",
       "      <th># genomes</th>\n",
       "      <th># markers</th>\n",
       "      <th># marker sets</th>\n",
       "      <th>Completeness</th>\n",
       "      <th>Contamination</th>\n",
       "      <th>Strain heterogeneity</th>\n",
       "      <th>...</th>\n",
       "      <th>GC std (scaffolds &gt; 1kbp)</th>\n",
       "      <th>Coding density</th>\n",
       "      <th>Translation table</th>\n",
       "      <th># predicted genes</th>\n",
       "      <th>0</th>\n",
       "      <th>1</th>\n",
       "      <th>2</th>\n",
       "      <th>3</th>\n",
       "      <th>4</th>\n",
       "      <th>5+</th>\n",
       "    </tr>\n",
       "  </thead>\n",
       "  <tbody>\n",
       "    <tr>\n",
       "      <th>0</th>\n",
       "      <td>DASTool</td>\n",
       "      <td>pre</td>\n",
       "      <td>metabat.10</td>\n",
       "      <td>o__Rhizobiales (UID3447)</td>\n",
       "      <td>356</td>\n",
       "      <td>416</td>\n",
       "      <td>249</td>\n",
       "      <td>97.79</td>\n",
       "      <td>0.64</td>\n",
       "      <td>0.00</td>\n",
       "      <td>...</td>\n",
       "      <td>0.00</td>\n",
       "      <td>88.95</td>\n",
       "      <td>11</td>\n",
       "      <td>3293</td>\n",
       "      <td>6</td>\n",
       "      <td>405</td>\n",
       "      <td>5</td>\n",
       "      <td>0</td>\n",
       "      <td>0</td>\n",
       "      <td>0</td>\n",
       "    </tr>\n",
       "    <tr>\n",
       "      <th>1</th>\n",
       "      <td>DASTool</td>\n",
       "      <td>pre</td>\n",
       "      <td>metabat.103_sub</td>\n",
       "      <td>f__Rhodobacteraceae (UID3375)</td>\n",
       "      <td>32</td>\n",
       "      <td>625</td>\n",
       "      <td>283</td>\n",
       "      <td>98.12</td>\n",
       "      <td>4.88</td>\n",
       "      <td>31.82</td>\n",
       "      <td>...</td>\n",
       "      <td>2.04</td>\n",
       "      <td>86.62</td>\n",
       "      <td>11</td>\n",
       "      <td>4585</td>\n",
       "      <td>12</td>\n",
       "      <td>591</td>\n",
       "      <td>22</td>\n",
       "      <td>0</td>\n",
       "      <td>0</td>\n",
       "      <td>0</td>\n",
       "    </tr>\n",
       "    <tr>\n",
       "      <th>2</th>\n",
       "      <td>DASTool</td>\n",
       "      <td>pre</td>\n",
       "      <td>metabat.104</td>\n",
       "      <td>k__Bacteria (UID203)</td>\n",
       "      <td>5449</td>\n",
       "      <td>104</td>\n",
       "      <td>58</td>\n",
       "      <td>17.08</td>\n",
       "      <td>0.00</td>\n",
       "      <td>0.00</td>\n",
       "      <td>...</td>\n",
       "      <td>3.88</td>\n",
       "      <td>89.76</td>\n",
       "      <td>11</td>\n",
       "      <td>566</td>\n",
       "      <td>84</td>\n",
       "      <td>20</td>\n",
       "      <td>0</td>\n",
       "      <td>0</td>\n",
       "      <td>0</td>\n",
       "      <td>0</td>\n",
       "    </tr>\n",
       "    <tr>\n",
       "      <th>3</th>\n",
       "      <td>DASTool</td>\n",
       "      <td>pre</td>\n",
       "      <td>metabat.107_sub</td>\n",
       "      <td>g__Staphylococcus (UID294)</td>\n",
       "      <td>60</td>\n",
       "      <td>773</td>\n",
       "      <td>178</td>\n",
       "      <td>97.96</td>\n",
       "      <td>3.32</td>\n",
       "      <td>96.43</td>\n",
       "      <td>...</td>\n",
       "      <td>1.60</td>\n",
       "      <td>86.88</td>\n",
       "      <td>11</td>\n",
       "      <td>2399</td>\n",
       "      <td>13</td>\n",
       "      <td>732</td>\n",
       "      <td>28</td>\n",
       "      <td>0</td>\n",
       "      <td>0</td>\n",
       "      <td>0</td>\n",
       "    </tr>\n",
       "    <tr>\n",
       "      <th>4</th>\n",
       "      <td>DASTool</td>\n",
       "      <td>pre</td>\n",
       "      <td>metabat.109</td>\n",
       "      <td>k__Bacteria (UID2142)</td>\n",
       "      <td>169</td>\n",
       "      <td>316</td>\n",
       "      <td>236</td>\n",
       "      <td>98.73</td>\n",
       "      <td>0.00</td>\n",
       "      <td>0.00</td>\n",
       "      <td>...</td>\n",
       "      <td>0.00</td>\n",
       "      <td>92.98</td>\n",
       "      <td>11</td>\n",
       "      <td>2264</td>\n",
       "      <td>3</td>\n",
       "      <td>313</td>\n",
       "      <td>0</td>\n",
       "      <td>0</td>\n",
       "      <td>0</td>\n",
       "      <td>0</td>\n",
       "    </tr>\n",
       "  </tbody>\n",
       "</table>\n",
       "<p>5 rows × 31 columns</p>\n",
       "</div>"
      ],
      "text/plain": [
       "    Binner Curation           Bin Id                 Marker lineage  \\\n",
       "0  DASTool      pre       metabat.10       o__Rhizobiales (UID3447)   \n",
       "1  DASTool      pre  metabat.103_sub  f__Rhodobacteraceae (UID3375)   \n",
       "2  DASTool      pre      metabat.104           k__Bacteria (UID203)   \n",
       "3  DASTool      pre  metabat.107_sub     g__Staphylococcus (UID294)   \n",
       "4  DASTool      pre      metabat.109          k__Bacteria (UID2142)   \n",
       "\n",
       "   # genomes  # markers  # marker sets  Completeness  Contamination  \\\n",
       "0        356        416            249         97.79           0.64   \n",
       "1         32        625            283         98.12           4.88   \n",
       "2       5449        104             58         17.08           0.00   \n",
       "3         60        773            178         97.96           3.32   \n",
       "4        169        316            236         98.73           0.00   \n",
       "\n",
       "   Strain heterogeneity  ...  GC std (scaffolds > 1kbp)  Coding density  \\\n",
       "0                  0.00  ...                       0.00           88.95   \n",
       "1                 31.82  ...                       2.04           86.62   \n",
       "2                  0.00  ...                       3.88           89.76   \n",
       "3                 96.43  ...                       1.60           86.88   \n",
       "4                  0.00  ...                       0.00           92.98   \n",
       "\n",
       "   Translation table  # predicted genes   0    1   2  3  4  5+  \n",
       "0                 11               3293   6  405   5  0  0   0  \n",
       "1                 11               4585  12  591  22  0  0   0  \n",
       "2                 11                566  84   20   0  0  0   0  \n",
       "3                 11               2399  13  732  28  0  0   0  \n",
       "4                 11               2264   3  313   0  0  0   0  \n",
       "\n",
       "[5 rows x 31 columns]"
      ]
     },
     "execution_count": 23,
     "metadata": {},
     "output_type": "execute_result"
    }
   ],
   "source": [
    "dfc = pd.read_table('checkm.tsv')\n",
    "dfc.head()"
   ]
  },
  {
   "cell_type": "code",
   "execution_count": 24,
   "id": "14df971b",
   "metadata": {},
   "outputs": [
    {
     "data": {
      "text/html": [
       "<div>\n",
       "<style scoped>\n",
       "    .dataframe tbody tr th:only-of-type {\n",
       "        vertical-align: middle;\n",
       "    }\n",
       "\n",
       "    .dataframe tbody tr th {\n",
       "        vertical-align: top;\n",
       "    }\n",
       "\n",
       "    .dataframe thead th {\n",
       "        text-align: right;\n",
       "    }\n",
       "</style>\n",
       "<table border=\"1\" class=\"dataframe\">\n",
       "  <thead>\n",
       "    <tr style=\"text-align: right;\">\n",
       "      <th></th>\n",
       "      <th>Binner</th>\n",
       "      <th>Curation</th>\n",
       "      <th>High</th>\n",
       "      <th>Medium</th>\n",
       "      <th>Low</th>\n",
       "    </tr>\n",
       "  </thead>\n",
       "  <tbody>\n",
       "    <tr>\n",
       "      <th>0</th>\n",
       "      <td>DASTool</td>\n",
       "      <td>pre</td>\n",
       "      <td>198</td>\n",
       "      <td>72</td>\n",
       "      <td>28</td>\n",
       "    </tr>\n",
       "    <tr>\n",
       "      <th>1</th>\n",
       "      <td>DASTool</td>\n",
       "      <td>post</td>\n",
       "      <td>224</td>\n",
       "      <td>74</td>\n",
       "      <td>43</td>\n",
       "    </tr>\n",
       "    <tr>\n",
       "      <th>2</th>\n",
       "      <td>MaxBin</td>\n",
       "      <td>pre</td>\n",
       "      <td>158</td>\n",
       "      <td>62</td>\n",
       "      <td>62</td>\n",
       "    </tr>\n",
       "    <tr>\n",
       "      <th>3</th>\n",
       "      <td>MaxBin</td>\n",
       "      <td>post</td>\n",
       "      <td>182</td>\n",
       "      <td>76</td>\n",
       "      <td>96</td>\n",
       "    </tr>\n",
       "    <tr>\n",
       "      <th>4</th>\n",
       "      <td>MetaBAT</td>\n",
       "      <td>pre</td>\n",
       "      <td>136</td>\n",
       "      <td>29</td>\n",
       "      <td>64</td>\n",
       "    </tr>\n",
       "    <tr>\n",
       "      <th>5</th>\n",
       "      <td>MetaBAT</td>\n",
       "      <td>post</td>\n",
       "      <td>159</td>\n",
       "      <td>33</td>\n",
       "      <td>68</td>\n",
       "    </tr>\n",
       "  </tbody>\n",
       "</table>\n",
       "</div>"
      ],
      "text/plain": [
       "    Binner Curation  High  Medium  Low\n",
       "0  DASTool      pre   198      72   28\n",
       "1  DASTool     post   224      74   43\n",
       "2   MaxBin      pre   158      62   62\n",
       "3   MaxBin     post   182      76   96\n",
       "4  MetaBAT      pre   136      29   64\n",
       "5  MetaBAT     post   159      33   68"
      ]
     },
     "execution_count": 24,
     "metadata": {},
     "output_type": "execute_result"
    }
   ],
   "source": [
    "res = []\n",
    "for tool in tools:\n",
    "    for stat in stats:\n",
    "        df_ = dfc.query(f'Binner == \"{tool}\" and Curation == \"{stat}\"')\n",
    "        high = df_.query('Completeness >= 90 and Contamination < 5').shape[0]\n",
    "        medium = df_.query('Completeness >= 50 and Contamination < 10').shape[0] - high\n",
    "        low = df_.query('Completeness < 50 and Contamination < 10').shape[0]\n",
    "        res.append([tool, stat, high, medium, low])\n",
    "df_ = pd.DataFrame(res, columns=['Binner', 'Curation', 'High', 'Medium', 'Low'])\n",
    "df_"
   ]
  },
  {
   "cell_type": "code",
   "execution_count": 25,
   "id": "b002d791",
   "metadata": {},
   "outputs": [],
   "source": [
    "quals = ['High', 'Medium', 'Low']"
   ]
  },
  {
   "cell_type": "code",
   "execution_count": 26,
   "id": "948a7694",
   "metadata": {},
   "outputs": [
    {
     "data": {
      "image/png": "[encoded data removed]",
      "text/plain": [
       "<Figure size 360x324 with 1 Axes>"
      ]
     },
     "metadata": {
      "needs_background": "light"
     },
     "output_type": "display_data"
    }
   ],
   "source": [
    "plt.figure(figsize=(5, 4.5))\n",
    "for i, stat in enumerate(stats):\n",
    "    yran_ = yran + (0.5 - i) * width\n",
    "    left = np.zeros(ntool)\n",
    "    for j, qual in enumerate(quals):\n",
    "        vals = df_.query(f'Curation==\"{stat}\"')[qual]\n",
    "        plt.barh(yran_, vals, width, left=left, color=cmap(i * 4 + j), label=stat)\n",
    "        left += vals\n",
    "plt.legend(handles=[mpatches.Patch(color=cmap(\n",
    "    16 + i), label=qual) for i, qual in enumerate(quals)][::-1])\n",
    "plt.xlim(right=400)\n",
    "plt.yticks(yran, tools)\n",
    "plt.xlabel('Number of bins by quality')\n",
    "plt.savefig('checkm.svg')"
   ]
  },
  {
   "cell_type": "markdown",
   "id": "1019355c",
   "metadata": {},
   "source": [
    "## Adjusted Rand Index"
   ]
  },
  {
   "cell_type": "code",
   "execution_count": 27,
   "id": "8e78b6b6",
   "metadata": {},
   "outputs": [
    {
     "data": {
      "text/html": [
       "<div>\n",
       "<style scoped>\n",
       "    .dataframe tbody tr th:only-of-type {\n",
       "        vertical-align: middle;\n",
       "    }\n",
       "\n",
       "    .dataframe tbody tr th {\n",
       "        vertical-align: top;\n",
       "    }\n",
       "\n",
       "    .dataframe thead th {\n",
       "        text-align: right;\n",
       "    }\n",
       "</style>\n",
       "<table border=\"1\" class=\"dataframe\">\n",
       "  <thead>\n",
       "    <tr style=\"text-align: right;\">\n",
       "      <th></th>\n",
       "      <th>left</th>\n",
       "      <th>right</th>\n",
       "      <th>ari</th>\n",
       "    </tr>\n",
       "  </thead>\n",
       "  <tbody>\n",
       "    <tr>\n",
       "      <th>0</th>\n",
       "      <td>DASTool_pre</td>\n",
       "      <td>DASTool_post</td>\n",
       "      <td>1.00000</td>\n",
       "    </tr>\n",
       "    <tr>\n",
       "      <th>1</th>\n",
       "      <td>DASTool_pre</td>\n",
       "      <td>MaxBin_pre</td>\n",
       "      <td>0.97282</td>\n",
       "    </tr>\n",
       "    <tr>\n",
       "      <th>2</th>\n",
       "      <td>DASTool_pre</td>\n",
       "      <td>MaxBin_post</td>\n",
       "      <td>0.98875</td>\n",
       "    </tr>\n",
       "    <tr>\n",
       "      <th>3</th>\n",
       "      <td>DASTool_pre</td>\n",
       "      <td>MetaBAT_pre</td>\n",
       "      <td>0.93960</td>\n",
       "    </tr>\n",
       "    <tr>\n",
       "      <th>4</th>\n",
       "      <td>DASTool_pre</td>\n",
       "      <td>MetaBAT_post</td>\n",
       "      <td>0.98016</td>\n",
       "    </tr>\n",
       "  </tbody>\n",
       "</table>\n",
       "</div>"
      ],
      "text/plain": [
       "          left         right      ari\n",
       "0  DASTool_pre  DASTool_post  1.00000\n",
       "1  DASTool_pre    MaxBin_pre  0.97282\n",
       "2  DASTool_pre   MaxBin_post  0.98875\n",
       "3  DASTool_pre   MetaBAT_pre  0.93960\n",
       "4  DASTool_pre  MetaBAT_post  0.98016"
      ]
     },
     "execution_count": 27,
     "metadata": {},
     "output_type": "execute_result"
    }
   ],
   "source": [
    "dfa = pd.read_table('ari.tsv', names=['left', 'right', 'ari'])\n",
    "dfa.head()"
   ]
  },
  {
   "cell_type": "markdown",
   "id": "07a1456b",
   "metadata": {},
   "source": [
    "Before vs after"
   ]
  },
  {
   "cell_type": "code",
   "execution_count": 28,
   "id": "b4a3470a",
   "metadata": {},
   "outputs": [],
   "source": [
    "truth = 'Truth_all'"
   ]
  },
  {
   "cell_type": "code",
   "execution_count": 29,
   "id": "227bfca7",
   "metadata": {},
   "outputs": [],
   "source": [
    "data = []\n",
    "dfa_ = dfa.query(f'right==\"{truth}\"')\n",
    "for tool in tools:\n",
    "    data.append([])\n",
    "    for stat in stats:\n",
    "        data[-1].append(dfa_.query(f'left==\"{tool}_{stat}\"').iloc[0]['ari'])"
   ]
  },
  {
   "cell_type": "code",
   "execution_count": 30,
   "id": "6afe9927",
   "metadata": {},
   "outputs": [
    {
     "data": {
      "text/html": [
       "<div>\n",
       "<style scoped>\n",
       "    .dataframe tbody tr th:only-of-type {\n",
       "        vertical-align: middle;\n",
       "    }\n",
       "\n",
       "    .dataframe tbody tr th {\n",
       "        vertical-align: top;\n",
       "    }\n",
       "\n",
       "    .dataframe thead th {\n",
       "        text-align: right;\n",
       "    }\n",
       "</style>\n",
       "<table border=\"1\" class=\"dataframe\">\n",
       "  <thead>\n",
       "    <tr style=\"text-align: right;\">\n",
       "      <th></th>\n",
       "      <th>pre</th>\n",
       "      <th>post</th>\n",
       "    </tr>\n",
       "  </thead>\n",
       "  <tbody>\n",
       "    <tr>\n",
       "      <th>DASTool</th>\n",
       "      <td>0.72872</td>\n",
       "      <td>0.98282</td>\n",
       "    </tr>\n",
       "    <tr>\n",
       "      <th>MaxBin</th>\n",
       "      <td>0.58581</td>\n",
       "      <td>0.94558</td>\n",
       "    </tr>\n",
       "    <tr>\n",
       "      <th>MetaBAT</th>\n",
       "      <td>0.54131</td>\n",
       "      <td>0.73472</td>\n",
       "    </tr>\n",
       "  </tbody>\n",
       "</table>\n",
       "</div>"
      ],
      "text/plain": [
       "             pre     post\n",
       "DASTool  0.72872  0.98282\n",
       "MaxBin   0.58581  0.94558\n",
       "MetaBAT  0.54131  0.73472"
      ]
     },
     "execution_count": 30,
     "metadata": {},
     "output_type": "execute_result"
    }
   ],
   "source": [
    "df_ = pd.DataFrame(data, columns=stats, index=tools)\n",
    "df_"
   ]
  },
  {
   "cell_type": "code",
   "execution_count": 31,
   "id": "f28aa7aa",
   "metadata": {},
   "outputs": [
    {
     "data": {
      "image/png": "[encoded data removed]",
      "text/plain": [
       "<Figure size 360x324 with 1 Axes>"
      ]
     },
     "metadata": {
      "needs_background": "light"
     },
     "output_type": "display_data"
    }
   ],
   "source": [
    "plt.figure(figsize=(5, 4.5))\n",
    "for i, stat in enumerate(stats):\n",
    "    plt.barh(yran + (0.5 - i) * width, df_[stat], width, label=stat)\n",
    "plt.legend()\n",
    "plt.yticks(yran, tools)\n",
    "plt.xlabel('Adjusted Rand Index')\n",
    "plt.savefig('ari.svg')"
   ]
  }
 ],
 "metadata": {
  "kernelspec": {
   "display_name": "Python 3 (ipykernel)",
   "language": "python",
   "name": "python3"
  },
  "language_info": {
   "codemirror_mode": {
    "name": "ipython",
    "version": 3
   },
   "file_extension": ".py",
   "mimetype": "text/x-python",
   "name": "python",
   "nbconvert_exporter": "python",
   "pygments_lexer": "ipython3",
   "version": "3.8.12"
  }
 },
 "nbformat": 4,
 "nbformat_minor": 5
}
